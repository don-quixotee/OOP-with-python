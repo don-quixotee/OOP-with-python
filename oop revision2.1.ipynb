{
 "cells": [
  {
   "cell_type": "markdown",
   "metadata": {},
   "source": [
    "# Encapulation:\n",
    "    process of restricting access to method  and varibale to prevent direct data   modification"
   ]
  },
  {
   "cell_type": "code",
   "execution_count": 9,
   "metadata": {},
   "outputs": [],
   "source": [
    "class Cars:\n",
    "    def __init__(self, speed, color):\n",
    "        self.speed = speed\n",
    "        self.color = color\n",
    "        \n",
    "    def set_speed(self, value):\n",
    "        self.speed = value\n",
    "        \n",
    "    def get_speed(self):\n",
    "        return self.speed\n",
    "        \n",
    "        "
   ]
  },
  {
   "cell_type": "code",
   "execution_count": 11,
   "metadata": {},
   "outputs": [
    {
     "name": "stdout",
     "output_type": "stream",
     "text": [
      "170km/hr\n",
      "200km/hr\n",
      "color: black, speed: 500km/hr\n"
     ]
    }
   ],
   "source": [
    "ford = Cars(\"170km/hr\", \"red\")\n",
    "ford.color = \"black\"\n",
    "ford.speed = \"500km/hr\"\n",
    "print(\"color: {}, speed: {}\".format(ford.color, ford.speed))\n"
   ]
  },
  {
   "cell_type": "code",
   "execution_count": 1,
   "metadata": {},
   "outputs": [
    {
     "ename": "NameError",
     "evalue": "name 'Cars' is not defined",
     "output_type": "error",
     "traceback": [
      "\u001b[0;31m---------------------------------------------------------------------------\u001b[0m",
      "\u001b[0;31mNameError\u001b[0m                                 Traceback (most recent call last)",
      "\u001b[0;32m<ipython-input-1-c06b5432b727>\u001b[0m in \u001b[0;36m<module>\u001b[0;34m\u001b[0m\n\u001b[0;32m----> 1\u001b[0;31m \u001b[0mnissan\u001b[0m \u001b[0;34m=\u001b[0m \u001b[0mCars\u001b[0m\u001b[0;34m(\u001b[0m\u001b[0;34m\"250km/hr\"\u001b[0m\u001b[0;34m,\u001b[0m\u001b[0;34m\"black\"\u001b[0m\u001b[0;34m)\u001b[0m\u001b[0;34m\u001b[0m\u001b[0;34m\u001b[0m\u001b[0m\n\u001b[0m\u001b[1;32m      2\u001b[0m \u001b[0mprint\u001b[0m\u001b[0;34m(\u001b[0m\u001b[0mnissan\u001b[0m\u001b[0;34m.\u001b[0m\u001b[0mget_speed\u001b[0m\u001b[0;34m(\u001b[0m\u001b[0;34m)\u001b[0m\u001b[0;34m)\u001b[0m\u001b[0;34m\u001b[0m\u001b[0;34m\u001b[0m\u001b[0m\n\u001b[1;32m      3\u001b[0m \u001b[0mnissan\u001b[0m\u001b[0;34m.\u001b[0m\u001b[0mset_speed\u001b[0m\u001b[0;34m(\u001b[0m\u001b[0;34m\"230km/hr\"\u001b[0m\u001b[0;34m)\u001b[0m\u001b[0;34m\u001b[0m\u001b[0;34m\u001b[0m\u001b[0m\n\u001b[1;32m      4\u001b[0m \u001b[0mnissan\u001b[0m\u001b[0;34m.\u001b[0m\u001b[0mget_speed\u001b[0m\u001b[0;34m(\u001b[0m\u001b[0;34m)\u001b[0m\u001b[0;34m\u001b[0m\u001b[0;34m\u001b[0m\u001b[0m\n",
      "\u001b[0;31mNameError\u001b[0m: name 'Cars' is not defined"
     ]
    }
   ],
   "source": [
    "nissan = Cars(\"250km/hr\",\"black\")\n",
    "print(nissan.get_speed())\n",
    "nissan.set_speed(\"230km/hr\")\n",
    "nissan.get_speed()"
   ]
  },
  {
   "cell_type": "markdown",
   "metadata": {},
   "source": [
    "# \"so far we are able to modify the method easily\""
   ]
  },
  {
   "cell_type": "markdown",
   "metadata": {},
   "source": [
    "# lets try some encapsulation to restrict that"
   ]
  },
  {
   "cell_type": "code",
   "execution_count": 2,
   "metadata": {},
   "outputs": [
    {
     "name": "stdout",
     "output_type": "stream",
     "text": [
      "170km/hr\n"
     ]
    },
    {
     "data": {
      "text/plain": [
       "'200km/hr'"
      ]
     },
     "execution_count": 2,
     "metadata": {},
     "output_type": "execute_result"
    }
   ],
   "source": [
    "class Cars:\n",
    "    def __init__(self, speed, color):\n",
    "        self.__speed = speed\n",
    "        self.__color = color\n",
    "        \n",
    "    def set_speed(self, value):\n",
    "        self.__speed = value\n",
    "        \n",
    "    def get_speed(self):\n",
    "        return self.__speed\n",
    "        \n",
    "\n",
    "ford = Cars(\"170km/hr\", \"red\")\n",
    "print(ford.get_speed())\n",
    "ford.set_speed(\"200km/hr\")\n",
    "ford.get_speed()\n"
   ]
  }
 ],
 "metadata": {
  "kernelspec": {
   "display_name": "Python 3",
   "language": "python",
   "name": "python3"
  },
  "language_info": {
   "codemirror_mode": {
    "name": "ipython",
    "version": 3
   },
   "file_extension": ".py",
   "mimetype": "text/x-python",
   "name": "python",
   "nbconvert_exporter": "python",
   "pygments_lexer": "ipython3",
   "version": "3.7.6"
  }
 },
 "nbformat": 4,
 "nbformat_minor": 4
}
